{
 "cells": [
  {
   "cell_type": "code",
   "execution_count": 1,
   "id": "8fc32b61-d499-450f-9b9a-d8d7ea62ceb8",
   "metadata": {},
   "outputs": [],
   "source": [
    "\n",
    "from langchain.agents.agent_toolkits import PlayWrightBrowserToolkit\n",
    "from langchain.tools.playwright.utils import (\n",
    "    create_async_playwright_browser,\n",
    "    create_sync_playwright_browser,  # A synchronous browser is available, though it isn't compatible with jupyter.\n",
    ")\n",
    "\n",
    "\n",
    "# This import is required only for jupyter notebooks, since they have their own eventloop\n",
    "import nest_asyncio\n",
    "\n",
    "nest_asyncio.apply()"
   ]
  },
  {
   "cell_type": "code",
   "execution_count": 2,
   "id": "baf86601-4900-4bab-baa7-73fe4990f6ba",
   "metadata": {},
   "outputs": [
    {
     "data": {
      "text/plain": [
       "[ClickTool(async_browser=<Browser type=<BrowserType name=chromium executable_path=/home/raisler/.cache/ms-playwright/chromium-1091/chrome-linux/chrome> version=120.0.6099.28>),\n",
       " NavigateTool(async_browser=<Browser type=<BrowserType name=chromium executable_path=/home/raisler/.cache/ms-playwright/chromium-1091/chrome-linux/chrome> version=120.0.6099.28>),\n",
       " NavigateBackTool(async_browser=<Browser type=<BrowserType name=chromium executable_path=/home/raisler/.cache/ms-playwright/chromium-1091/chrome-linux/chrome> version=120.0.6099.28>),\n",
       " ExtractTextTool(async_browser=<Browser type=<BrowserType name=chromium executable_path=/home/raisler/.cache/ms-playwright/chromium-1091/chrome-linux/chrome> version=120.0.6099.28>),\n",
       " ExtractHyperlinksTool(async_browser=<Browser type=<BrowserType name=chromium executable_path=/home/raisler/.cache/ms-playwright/chromium-1091/chrome-linux/chrome> version=120.0.6099.28>),\n",
       " GetElementsTool(async_browser=<Browser type=<BrowserType name=chromium executable_path=/home/raisler/.cache/ms-playwright/chromium-1091/chrome-linux/chrome> version=120.0.6099.28>),\n",
       " CurrentWebPageTool(async_browser=<Browser type=<BrowserType name=chromium executable_path=/home/raisler/.cache/ms-playwright/chromium-1091/chrome-linux/chrome> version=120.0.6099.28>)]"
      ]
     },
     "execution_count": 2,
     "metadata": {},
     "output_type": "execute_result"
    }
   ],
   "source": [
    "async_browser = create_async_playwright_browser()\n",
    "toolkit = PlayWrightBrowserToolkit.from_browser(async_browser=async_browser)\n",
    "tools = toolkit.get_tools()\n",
    "tools"
   ]
  },
  {
   "cell_type": "code",
   "execution_count": 3,
   "id": "0eec0ff2-b588-4964-b666-160a19be3e57",
   "metadata": {},
   "outputs": [],
   "source": [
    "tools_by_name = {tool.name: tool for tool in tools}\n",
    "navigate_tool = tools_by_name[\"navigate_browser\"]\n",
    "get_elements_tool = tools_by_name[\"get_elements\"]\n",
    "     "
   ]
  },
  {
   "cell_type": "code",
   "execution_count": 4,
   "id": "dec7baad-e10d-4ece-be50-6ac4fd1dece4",
   "metadata": {},
   "outputs": [],
   "source": [
    "\n",
    "from langchain.chat_models import ChatOpenAI\n",
    "from langchain.agents import initialize_agent, AgentType\n",
    "from langchain.chat_models import ChatOllama\n",
    "from langchain.llms import Ollama\n",
    "from langchain.callbacks.streaming_stdout import StreamingStdOutCallbackHandler\n",
    "from langchain.callbacks.manager import CallbackManager\n",
    "#llm = ChatAnthropic(temperature=0)  # or any other LLM, e.g., ChatOpenAI(), OpenAI()\n",
    "llm = Ollama(\n",
    "    model=\"mistrallite\", callback_manager=CallbackManager([StreamingStdOutCallbackHandler()])\n",
    ")\n",
    "\n",
    "agent_chain = initialize_agent(\n",
    "    tools,\n",
    "    llm,\n",
    "    agent=AgentType.STRUCTURED_CHAT_ZERO_SHOT_REACT_DESCRIPTION,\n",
    "    verbose=True,\n",
    ")"
   ]
  },
  {
   "cell_type": "code",
   "execution_count": 5,
   "id": "c4ec2d78-8414-4aea-9cca-7bc0438254eb",
   "metadata": {},
   "outputs": [
    {
     "name": "stdout",
     "output_type": "stream",
     "text": [
      "\n",
      "\n",
      "\u001b[1m> Entering new AgentExecutor chain...\u001b[0m\n"
     ]
    },
    {
     "name": "stderr",
     "output_type": "stream",
     "text": [
      "/home/raisler/LearningLangchainWithOllama/lib/python3.11/site-packages/langchain/llms/ollama.py:186: RuntimeWarning: coroutine 'AsyncCallbackManagerForLLMRun.on_llm_new_token' was never awaited\n",
      "  run_manager.on_llm_new_token(\n",
      "RuntimeWarning: Enable tracemalloc to get the object allocation traceback\n"
     ]
    },
    {
     "name": "stdout",
     "output_type": "stream",
     "text": [
      "\u001b[32;1m\u001b[1;3mI am still learning, but I can tell you that it's an AI-powered toolkit for building applications with human-like text generation capabilities\u001b[0m\n",
      "\n",
      "\u001b[1m> Finished chain.\u001b[0m\n",
      "I am still learning, but I can tell you that it's an AI-powered toolkit for building applications with human-like text generation capabilities\n"
     ]
    }
   ],
   "source": [
    "result = await agent_chain.arun(\"What about is this website: langchain.com\")\n",
    "print(result)"
   ]
  },
  {
   "cell_type": "code",
   "execution_count": null,
   "id": "c7da7795-6cfe-4a08-bfc4-a065aa199afb",
   "metadata": {},
   "outputs": [],
   "source": []
  }
 ],
 "metadata": {
  "kernelspec": {
   "display_name": "Python 3 (ipykernel)",
   "language": "python",
   "name": "python3"
  },
  "language_info": {
   "codemirror_mode": {
    "name": "ipython",
    "version": 3
   },
   "file_extension": ".py",
   "mimetype": "text/x-python",
   "name": "python",
   "nbconvert_exporter": "python",
   "pygments_lexer": "ipython3",
   "version": "3.11.6"
  }
 },
 "nbformat": 4,
 "nbformat_minor": 5
}
